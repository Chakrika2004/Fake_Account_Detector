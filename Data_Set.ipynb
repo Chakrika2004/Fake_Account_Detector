{
 "cells": [
  {
   "cell_type": "code",
   "execution_count": 4,
   "id": "fa68e9ce-0b87-42df-947c-135e70d3d688",
   "metadata": {},
   "outputs": [
    {
     "name": "stdout",
     "output_type": "stream",
     "text": [
      "✅ 'fake_accounts_dataset.csv' generated successfully!\n",
      "✅ 'network_connections.csv' generated successfully!\n"
     ]
    }
   ],
   "source": [
    "import pandas as pd\n",
    "import random\n",
    "import numpy as np\n",
    "\n",
    "# Set random seed for reproducibility\n",
    "random.seed(42)\n",
    "np.random.seed(42)\n",
    "\n",
    "### FAKE ACCOUNTS DATASET ###\n",
    "num_users = 2000  # Number of user profiles\n",
    "\n",
    "account_ids = [f\"user_{i}\" for i in range(1, num_users + 1)]\n",
    "account_types = np.random.choice([0, 1], size=num_users, p=[0.7, 0.3])  # 70% real, 30% fake\n",
    "\n",
    "# Sample bios\n",
    "bios = [\n",
    "    \"Love traveling and photography 📸\", \"Tech enthusiast 🚀\", \"Crypto investor 💰\",\n",
    "    \"Follow for daily motivation! 💡\", \"Fake profile alert ⚠️\", \"Click here to win prizes! 🎁\",\n",
    "    \"AI & ML researcher 🤖\", \"Nature lover 🌿\", \"Social media marketing expert 📊\",\n",
    "    \"No bio yet...\"\n",
    "]\n",
    "bio_samples = [random.choice(bios) for _ in range(num_users)]\n",
    "\n",
    "followers = np.random.randint(10, 10000, size=num_users)\n",
    "following = np.random.randint(5, 5000, size=num_users)\n",
    "posts = np.random.randint(0, 300, size=num_users)\n",
    "\n",
    "df_accounts = pd.DataFrame({\n",
    "    \"account_id\": account_ids,\n",
    "    \"account_type\": account_types,  # 0 = Real, 1 = Fake\n",
    "    \"bio\": bio_samples,\n",
    "    \"followers\": followers,\n",
    "    \"following\": following,\n",
    "    \"posts\": posts\n",
    "})\n",
    "\n",
    "df_accounts.to_csv(\"fake_accounts_dataset.csv\", index=False)\n",
    "print(\"✅ 'fake_accounts_dataset.csv' generated successfully!\")\n",
    "\n",
    "\n",
    "### NETWORK CONNECTIONS DATASET ###\n",
    "num_connections = 500  # Number of social connections\n",
    "\n",
    "edges = {\n",
    "    \"source\": [random.choice(account_ids) for _ in range(num_connections)],\n",
    "    \"target\": [random.choice(account_ids) for _ in range(num_connections)]\n",
    "}\n",
    "\n",
    "df_edges = pd.DataFrame(edges)\n",
    "df_edges = df_edges[df_edges[\"source\"] != df_edges[\"target\"]]  # Remove self-loops\n",
    "\n",
    "df_edges.to_csv(\"network_connections.csv\", index=False)\n",
    "print(\"✅ 'network_connections.csv' generated successfully!\")"
   ]
  },
  {
   "cell_type": "code",
   "execution_count": 2,
   "id": "626ba947-59d3-478f-acb2-12f3f94523f7",
   "metadata": {},
   "outputs": [
    {
     "name": "stdout",
     "output_type": "stream",
     "text": [
      "✅ 'network_connections.csv' generated successfully!\n"
     ]
    }
   ],
   "source": []
  },
  {
   "cell_type": "code",
   "execution_count": null,
   "id": "d0577b6b-9507-4437-8f53-82ed9c0407c6",
   "metadata": {},
   "outputs": [],
   "source": []
  }
 ],
 "metadata": {
  "kernelspec": {
   "display_name": "Python 3 (ipykernel)",
   "language": "python",
   "name": "python3"
  },
  "language_info": {
   "codemirror_mode": {
    "name": "ipython",
    "version": 3
   },
   "file_extension": ".py",
   "mimetype": "text/x-python",
   "name": "python",
   "nbconvert_exporter": "python",
   "pygments_lexer": "ipython3",
   "version": "3.12.7"
  }
 },
 "nbformat": 4,
 "nbformat_minor": 5
}
